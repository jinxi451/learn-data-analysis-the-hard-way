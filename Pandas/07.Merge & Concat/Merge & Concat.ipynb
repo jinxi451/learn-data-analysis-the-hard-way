{
 "cells": [
  {
   "cell_type": "markdown",
   "metadata": {},
   "source": [
    "### Step1: 导入必要的库"
   ]
  },
  {
   "cell_type": "code",
   "execution_count": 1,
   "metadata": {
    "ExecuteTime": {
     "end_time": "2018-04-27T14:20:12.083879Z",
     "start_time": "2018-04-27T14:20:06.145202Z"
    }
   },
   "outputs": [],
   "source": [
    "import pandas as pd #数据分析\n",
    "import numpy as np #科学计算\n",
    "import matplotlib\n",
    "import matplotlib.pyplot as plt\n",
    "import seaborn as sns"
   ]
  },
  {
   "cell_type": "code",
   "execution_count": 2,
   "metadata": {
    "ExecuteTime": {
     "end_time": "2018-04-27T14:20:12.091880Z",
     "start_time": "2018-04-27T14:20:12.085881Z"
    }
   },
   "outputs": [],
   "source": [
    "import os\n",
    "os.chdir('D:\\\\Python\\\\Git_test\\\\Data_Analysis')"
   ]
  },
  {
   "cell_type": "markdown",
   "metadata": {},
   "source": [
    "## 一、数据读取"
   ]
  },
  {
   "cell_type": "code",
   "execution_count": 12,
   "metadata": {
    "ExecuteTime": {
     "end_time": "2018-04-27T14:32:01.246138Z",
     "start_time": "2018-04-27T14:32:01.225144Z"
    }
   },
   "outputs": [],
   "source": [
    "data_train = pd.read_csv(\"./input/data_analysis.csv\",index_col = 0)"
   ]
  },
  {
   "cell_type": "markdown",
   "metadata": {},
   "source": [
    "### 选取 Embarked =0 的数据上述列的数据"
   ]
  },
  {
   "cell_type": "markdown",
   "metadata": {},
   "source": [
    "* 选取'Sex_bool','Age_band','Title2' 数据块 sub_data3\n",
    "* 选取'Sex_bool','SibSp','Title2' 数据块 sub_data4\n",
    "* 选取 sub_data3的 前100行 sub_data5\n",
    "* 选取 sub_data3的 前50:100行 sub_data6\n",
    "* 选取 sub_data4的 前100行  sub_data7\n",
    "* 选取 sub_data4的 前50-100行 sub_data8"
   ]
  },
  {
   "cell_type": "code",
   "execution_count": 25,
   "metadata": {
    "ExecuteTime": {
     "end_time": "2018-04-27T14:40:05.521618Z",
     "start_time": "2018-04-27T14:40:05.511652Z"
    }
   },
   "outputs": [],
   "source": [
    "sub_data1 = data_train.loc[:,['PassengerId','Sex','Name_length','Title']]\n",
    "sub_data2 = data_train.loc[:,['PassengerId','Sex','SibSp','Pclass']]\n",
    "sub_data3 = sub_data1.iloc[:100,:]\n",
    "sub_data4 = sub_data1.iloc[50:150,:]\n",
    "sub_data5 = sub_data1.iloc[:100,:]\n",
    "sub_data6 = sub_data2.iloc[50:150,:]"
   ]
  },
  {
   "cell_type": "markdown",
   "metadata": {},
   "source": [
    "## 拼接 Concat"
   ]
  },
  {
   "cell_type": "markdown",
   "metadata": {},
   "source": [
    "### 将 sub_data5 与 sub_data6 按行拼接(忽略索引)data1"
   ]
  },
  {
   "cell_type": "markdown",
   "metadata": {},
   "source": [
    "#### 对行axis = 0 情况(默认)    ====变长( 忽略索引按行拼接)   <font color='red'>注意变化后的形状</font>"
   ]
  },
  {
   "cell_type": "code",
   "execution_count": 20,
   "metadata": {
    "ExecuteTime": {
     "end_time": "2018-04-27T14:34:51.775290Z",
     "start_time": "2018-04-27T14:34:51.762290Z"
    }
   },
   "outputs": [],
   "source": [
    "data1 = pd.concat([sub_data5,sub_data6],axis = 0, ignore_index = True)"
   ]
  },
  {
   "cell_type": "markdown",
   "metadata": {},
   "source": [
    "#### 将sub_data5,sub_data7 按行拼接 内拼接\n",
    "#### join 对应 axis 相反的方向   ignore 负责axis同方设置"
   ]
  },
  {
   "cell_type": "code",
   "execution_count": null,
   "metadata": {
    "ExecuteTime": {
     "end_time": "2018-01-21T15:23:56.880566Z",
     "start_time": "2018-01-21T15:23:56.863518Z"
    },
    "collapsed": true
   },
   "outputs": [],
   "source": [
    "data2 = pd.concat([sub_data5,sub_data7],axis = 0, ignore_index = True, join = 'inner')"
   ]
  },
  {
   "cell_type": "markdown",
   "metadata": {},
   "source": [
    "### 将sub_data5,sub_data6 按列拼接\n",
    "#### 对列axis = 1 情况  （相同列名情况） 变宽  如果根据 列还是merge引好\n",
    "ignore_index = True 忽略列名"
   ]
  },
  {
   "cell_type": "code",
   "execution_count": null,
   "metadata": {
    "collapsed": true
   },
   "outputs": [],
   "source": [
    "data3 = pd.concat([sub_data5,sub_data6],axis = 1, ignore_index = True) "
   ]
  },
  {
   "cell_type": "markdown",
   "metadata": {},
   "source": [
    "#### 将sub_data5,sub_data8 按列拼接 内拼接"
   ]
  },
  {
   "cell_type": "code",
   "execution_count": null,
   "metadata": {
    "ExecuteTime": {
     "end_time": "2018-01-21T15:23:57.990989Z",
     "start_time": "2018-01-21T15:23:57.953885Z"
    },
    "collapsed": true
   },
   "outputs": [],
   "source": [
    "data4 = pd.concat([sub_data5,sub_data8],axis = 1, join = 'inner')  # 只有50 行"
   ]
  },
  {
   "cell_type": "markdown",
   "metadata": {},
   "source": [
    "####   history命令"
   ]
  },
  {
   "cell_type": "markdown",
   "metadata": {},
   "source": [
    "##  数据合并Merge"
   ]
  },
  {
   "cell_type": "markdown",
   "metadata": {},
   "source": [
    "###  将sub_data5 和 sub_data6 数据根据 Age_band进行 left合并"
   ]
  },
  {
   "cell_type": "code",
   "execution_count": 32,
   "metadata": {
    "ExecuteTime": {
     "end_time": "2018-04-27T14:43:30.405621Z",
     "start_time": "2018-04-27T14:43:30.396621Z"
    }
   },
   "outputs": [],
   "source": [
    "full_data = pd.merge(sub_data5,sub_data6,on = ['PassengerId'], how ='left' )"
   ]
  },
  {
   "cell_type": "markdown",
   "metadata": {},
   "source": [
    "### 将sub_data5 和 sub_data6数据根据 PassengerId进行 left合并 同名字段添加后缀left right  suffixes= 默认_x _y"
   ]
  },
  {
   "cell_type": "code",
   "execution_count": 31,
   "metadata": {
    "ExecuteTime": {
     "end_time": "2018-04-27T14:42:13.936901Z",
     "start_time": "2018-04-27T14:42:13.927897Z"
    }
   },
   "outputs": [],
   "source": [
    "full_data = pd.merge(sub_data4,sub_data5,left_index =  True, right_on =['PassengerId'], how ='left', suffixes=('_left', '_right'))"
   ]
  },
  {
   "cell_type": "markdown",
   "metadata": {},
   "source": [
    "#### 将data_train 和 sub_data4数据根据'Sex_bool','Age_band','Title2'进行 left合并"
   ]
  },
  {
   "cell_type": "code",
   "execution_count": 33,
   "metadata": {
    "ExecuteTime": {
     "end_time": "2018-04-27T14:44:23.016195Z",
     "start_time": "2018-04-27T14:44:22.939197Z"
    }
   },
   "outputs": [],
   "source": [
    "full_data = pd.merge(data_train,sub_data4,on =['Sex','Title'], how ='left' )"
   ]
  }
 ],
 "metadata": {
  "kernelspec": {
   "display_name": "python_3",
   "language": "python",
   "name": "python_3"
  },
  "language_info": {
   "codemirror_mode": {
    "name": "ipython",
    "version": 3
   },
   "file_extension": ".py",
   "mimetype": "text/x-python",
   "name": "python",
   "nbconvert_exporter": "python",
   "pygments_lexer": "ipython3",
   "version": "3.6.2"
  }
 },
 "nbformat": 4,
 "nbformat_minor": 2
}
